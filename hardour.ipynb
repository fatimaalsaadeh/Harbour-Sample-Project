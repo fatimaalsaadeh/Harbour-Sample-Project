{
 "cells": [
  {
   "cell_type": "markdown",
   "metadata": {},
   "source": [
    "### Harbour Task - Elasticsearch Graph\n",
    "###### 02/15/2021\n",
    "***\n",
    "\n",
    "* [Configuration, Vault and Elasticsearch Connections](#-)\n",
    "* [Data Overview and Exploration](#--)\n",
    "* [Elasticsearch Setup and Exploration](#---)\n",
    "    * [Index our dataset records using bulk](#----)\n",
    "    * [Simple Elasticsearch request to find top documents match a text query](#-----) \n",
    "* [Elasticsearch Graph In Kibana Exploration](#------) \n",
    "    * [Graph request body](#-------)\n",
    "    * [Graph spidering reques](#--------)\n",
    "* [Demo](#---------)\n"
   ]
  },
  {
   "cell_type": "code",
   "execution_count": 26,
   "metadata": {},
   "outputs": [],
   "source": [
    "import configparser\n",
    "import csv\n",
    "import json\n",
    "import logging\n",
    "import time\n",
    "import warnings\n",
    "from collections import deque\n",
    "import elasticsearch\n",
    "import googlemaps\n",
    "import hvac\n",
    "import matplotlib.pyplot as plt\n",
    "import pandas as pd\n",
    "from elasticsearch import helpers\n",
    "from elasticsearch.client.graph import GraphClient\n",
    "from geotext import GeoText\n",
    "from IPython.display import display\n",
    "from ipywidgets import interact, widgets\n",
    "\n",
    "warnings.filterwarnings(\"ignore\")\n",
    "logging.basicConfig(format=\"%(asctime)s %(name)s %(message)s\")\n",
    "logger = logging.getLogger(__name__)\n",
    "logger.setLevel(logging.INFO)\n",
    "logger.propagate = True"
   ]
  },
  {
   "cell_type": "markdown",
   "metadata": {},
   "source": [
    "###### -\n",
    "## Configuration, Vault and Elasticsearch Connections\n",
    "**Configuration File:** for the URLs, paths and ports and filenames <br>\n",
    "**Vault:** to securly store the usernames and passwords"
   ]
  },
  {
   "cell_type": "code",
   "execution_count": 27,
   "metadata": {},
   "outputs": [],
   "source": [
    "class Config:\n",
    "    \"\"\"\n",
    "    Initialize the configurations vault and elasticsearch\n",
    "    \"\"\"\n",
    "\n",
    "    VAULT_SECTION = \"VAULT\"\n",
    "    ELASTIC_SECTION = \"ELASTIC\"\n",
    "    DATA_SECTION = \"DATA\"\n",
    "\n",
    "    INDEX_NAME = \"contracts_index\"\n",
    "    TYPE = \"contracts_docs\"\n",
    "\n",
    "    def __init__(self):\n",
    "        self.config = configparser.ConfigParser()\n",
    "        self.config.read(\"config/config.ini\")\n",
    "        logger.info(\"Vault, Elasticsearch, and Data Config loading...\")\n",
    "        if self.config.has_section(self.VAULT_SECTION):\n",
    "            self.VAULT_ADDR = self.get_config(self.VAULT_SECTION, \"VAULT_ADDR\")\n",
    "            self.USERNAME_PATH = self.get_config(self.VAULT_SECTION, \"USERNAME_PATH\")\n",
    "            self.PASSWORD_PATH = self.get_config(self.VAULT_SECTION, \"PASSWORD_PATH\")\n",
    "            self.GOOGLEMAPS_API = self.get_config(self.VAULT_SECTION, \"GOOGLEMAPS_API\")\n",
    "\n",
    "        if self.config.has_section(self.ELASTIC_SECTION):\n",
    "            self.ELASTIC_ADDR = self.get_config(self.ELASTIC_SECTION, \"ELASTIC_ADDR\")\n",
    "            self.ELASTIC_PORT = self.get_config(self.ELASTIC_SECTION, \"ELASTIC_PORT\")\n",
    "\n",
    "        if self.config.has_section(self.DATA_SECTION):\n",
    "            self.CONTRACT_FILE = self.get_config(self.DATA_SECTION, \"DATA_FILE\")\n",
    "            self.MAPPING_FILE = self.get_config(self.DATA_SECTION, \"MAPPING_FILE\")\n",
    "        logger.info(\"Done.\")\n",
    "\n",
    "    def get_config(self, section, option):\n",
    "        if self.config.has_option(section, option):\n",
    "            return self.config.get(section, option)\n",
    "        else:\n",
    "            logger.warning(section + \" \" + option + \" is returned None\")\n",
    "            return None\n",
    "\n",
    "    def vault_connect(self):\n",
    "            logger.info(\"Connecting to Vault...\")\n",
    "            self.vault_client = hvac.Client(url=self.VAULT_ADDR)\n",
    "            is_auth = self.vault_client.is_authenticated()\n",
    "            logger.info(\"Connected.\") if is_auth else logger.error(\n",
    "                \"Vault Authonitcation Failed.\"\n",
    "            )\n",
    "            googlemaps_api_key = self.vault_client.secrets.kv.read_secret_version(\n",
    "            path=self.GOOGLEMAPS_API\n",
    "            )\n",
    "            if googlemaps_api_key:\n",
    "                self.googlemaps_api_key = googlemaps_api_key[\"data\"][\"data\"][\"apiKey\"]\n",
    "\n",
    "\n",
    "    def elasticsearch_connect(self):\n",
    "        logger.info(\"Connecting to Elasticsearch...\")\n",
    "        try:\n",
    "            username = self.vault_client.secrets.kv.read_secret_version(\n",
    "                path=self.USERNAME_PATH\n",
    "            )[\"data\"][\"data\"][\"username\"]\n",
    "            password = self.vault_client.secrets.kv.read_secret_version(\n",
    "                path=self.PASSWORD_PATH\n",
    "            )[\"data\"][\"data\"][\"password\"]\n",
    "            self.es_client = elasticsearch.Elasticsearch(\n",
    "                [self.ELASTIC_ADDR],\n",
    "                http_auth=(username, password),\n",
    "                scheme=\"https\",\n",
    "                port=self.ELASTIC_PORT,\n",
    "            )\n",
    "            logger.info(\"Connected.\")\n",
    "\n",
    "\n",
    "        except:\n",
    "            logger.error(\n",
    "                \"Elasticsearch connection failed, Please check credentials and config.\"\n",
    "            )"
   ]
  },
  {
   "cell_type": "code",
   "execution_count": 28,
   "metadata": {},
   "outputs": [
    {
     "name": "stderr",
     "output_type": "stream",
     "text": [
      "2021-02-14 16:07:38,887 __main__ Vault, Elasticsearch, and Data Config loading...\n",
      "2021-02-14 16:07:38,890 __main__ Done.\n"
     ]
    }
   ],
   "source": [
    "config = Config()"
   ]
  },
  {
   "cell_type": "code",
   "execution_count": 29,
   "metadata": {},
   "outputs": [
    {
     "name": "stderr",
     "output_type": "stream",
     "text": [
      "2021-02-14 16:07:43,203 __main__ Connecting to Vault...\n",
      "2021-02-14 16:07:43,218 __main__ Connected.\n"
     ]
    }
   ],
   "source": [
    "config.vault_connect()"
   ]
  },
  {
   "cell_type": "code",
   "execution_count": 30,
   "metadata": {},
   "outputs": [
    {
     "name": "stderr",
     "output_type": "stream",
     "text": [
      "2021-02-14 16:07:43,847 __main__ Connecting to Elasticsearch...\n",
      "2021-02-14 16:07:43,861 __main__ Connected.\n"
     ]
    }
   ],
   "source": [
    "config.elasticsearch_connect()"
   ]
  },
  {
   "cell_type": "markdown",
   "metadata": {},
   "source": [
    "###### --\n",
    "### Data Overview and Exploration \n",
    "**Dataset:** https://www.chicago.gov/city/en/dataset/contracts.html <br>\n",
    "**Description:** Contracts and modifications awarded by the City of Chicago from 1993 to present."
   ]
  },
  {
   "cell_type": "code",
   "execution_count": 31,
   "metadata": {},
   "outputs": [],
   "source": [
    "class Data:\n",
    "    \"\"\"\n",
    "    Load the dataset and explore it\n",
    "    \"\"\"\n",
    "\n",
    "    def __init__(self, config, is_logging=True):\n",
    "        self.dataset = pd.read_csv(config.CONTRACT_FILE)\n",
    "        if is_logging:\n",
    "            print(\"%s%s\" % (\"Total number of contracts = \", self.dataset.shape[0]))\n",
    "            print(\"%s%s\" % (\"Total number of attributes = \", self.dataset.shape[1]))\n",
    "            print(\"Contract attributes: \")\n",
    "            print(json.dumps(list(self.dataset.columns.values), indent=2))\n",
    "\n",
    "    def get_top_cities_by_contract_type(self, contract_type, count):\n",
    "        res = self.dataset.loc[self.dataset[\"Contract Type\"] == contract_type]\n",
    "        return list(res.City.value_counts().index[:count])\n",
    "\n",
    "    def get_states_by_num_of_contracts(self):\n",
    "        states_count = self.dataset.State.value_counts()\n",
    "        return states_count\n",
    "\n",
    "    def get_contract_types_by_frequency(self):\n",
    "        contract_types = self.dataset[\"Contract Type\"].value_counts()\n",
    "        soted_sum = [\n",
    "            x for _, x in sorted(zip(contract_types.values, contract_types.index))\n",
    "        ]\n",
    "        fig = plt.figure(figsize=(10, 5))\n",
    "        ax = fig.add_axes([0, 0, 1, 1])\n",
    "        ax.bar(soted_sum, sorted(contract_types.values))\n",
    "        plt.xticks(fontsize=11, rotation=\"90\")\n",
    "        fig.suptitle('Number of contracts by contract type', fontsize=12)\n",
    "        ax.set_xlabel('Contracts Type', fontsize=10)\n",
    "        ax.set_ylabel('Number of Contracts', fontsize='medium')\n",
    "        plt.show()"
   ]
  },
  {
   "cell_type": "code",
   "execution_count": 32,
   "metadata": {},
   "outputs": [
    {
     "name": "stdout",
     "output_type": "stream",
     "text": [
      "Total number of contracts = 51712\n",
      "Total number of attributes = 19\n",
      "Contract attributes: \n",
      "[\n",
      "  \"Purchase Order Description\",\n",
      "  \"Purchase Order (Contract) Number\",\n",
      "  \"Revision Number\",\n",
      "  \"Specification Number\",\n",
      "  \"Contract Type\",\n",
      "  \"Start Date\",\n",
      "  \"End Date\",\n",
      "  \"Approval Date\",\n",
      "  \"Department\",\n",
      "  \"Vendor Name\",\n",
      "  \"Vendor ID\",\n",
      "  \"Address 1\",\n",
      "  \"Address 2\",\n",
      "  \"City\",\n",
      "  \"State\",\n",
      "  \"Zip\",\n",
      "  \"Award Amount\",\n",
      "  \"Procurement Type\",\n",
      "  \"Contract PDF\"\n",
      "]\n"
     ]
    }
   ],
   "source": [
    "data = Data(config)"
   ]
  },
  {
   "cell_type": "code",
   "execution_count": 33,
   "metadata": {},
   "outputs": [
    {
     "name": "stdout",
     "output_type": "stream",
     "text": [
      "Top 4 Cities that have 'COMPTROLLER-OTHER' contract type:\n"
     ]
    },
    {
     "data": {
      "text/plain": [
       "['CHICAGO', 'Chicago', 'KANSAS CITY', 'OAK PARK']"
      ]
     },
     "execution_count": 33,
     "metadata": {},
     "output_type": "execute_result"
    }
   ],
   "source": [
    "print(\"Top 4 Cities that have \\'COMPTROLLER-OTHER\\' contract type:\")\n",
    "data.get_top_cities_by_contract_type(\"COMPTROLLER-OTHER\", 4)"
   ]
  },
  {
   "cell_type": "code",
   "execution_count": 34,
   "metadata": {},
   "outputs": [
    {
     "name": "stdout",
     "output_type": "stream",
     "text": [
      "Get states by number of contracts:\n"
     ]
    },
    {
     "data": {
      "text/plain": [
       "IL            48403\n",
       "MO              319\n",
       "TX              282\n",
       "CA              260\n",
       "WI              211\n",
       "PA              210\n",
       "NY              209\n",
       "MI              170\n",
       "IN              157\n",
       "GA              146\n",
       "MA              129\n",
       "MD              109\n",
       "FL              105\n",
       "OH              101\n",
       "MN               82\n",
       "AZ               73\n",
       "IA               67\n",
       "NJ               64\n",
       "VA               61\n",
       "DC               58\n",
       "CT               52\n",
       "KY               49\n",
       "CO               43\n",
       "NC               36\n",
       "TN               32\n",
       "NE               30\n",
       "WA               29\n",
       "OR               23\n",
       "LA               19\n",
       "AL               17\n",
       "CAN              17\n",
       "NH               15\n",
       "NV               14\n",
       "RI               11\n",
       "AR               10\n",
       "SC               10\n",
       "NM               10\n",
       "OK               10\n",
       "KS               10\n",
       "DE                9\n",
       "ID                6\n",
       "UT                6\n",
       "BC                4\n",
       "SD                4\n",
       "MS                4\n",
       "WV                3\n",
       "ME                3\n",
       "ONTARIO           3\n",
       "VT                2\n",
       "MT                2\n",
       "AK                1\n",
       "KOPINGEBRO        1\n",
       "WY                1\n",
       "Name: State, dtype: int64"
      ]
     },
     "execution_count": 34,
     "metadata": {},
     "output_type": "execute_result"
    }
   ],
   "source": [
    "print(\"Get states by number of contracts:\")\n",
    "data.get_states_by_num_of_contracts()"
   ]
  },
  {
   "cell_type": "code",
   "execution_count": 35,
   "metadata": {},
   "outputs": [
    {
     "data": {
      "image/png": "[encoded data removed]",
      "text/plain": [
       "<Figure size 720x360 with 1 Axes>"
      ]
     },
     "metadata": {
      "needs_background": "light"
     },
     "output_type": "display_data"
    }
   ],
   "source": [
    "data.get_contract_types_by_frequency()"
   ]
  },
  {
   "cell_type": "markdown",
   "metadata": {},
   "source": [
    "###### ---\n",
    "### Elasticsearch Setup and Exploration"
   ]
  },
  {
   "cell_type": "code",
   "execution_count": 36,
   "metadata": {},
   "outputs": [],
   "source": [
    "class Contracts_Elasticsearch:\n",
    "    \"\"\"\n",
    "    Create index, generate query and search documents\n",
    "    \"\"\"\n",
    "\n",
    "    def __init__(self, config):\n",
    "        self.INDEX_NAME = config.INDEX_NAME\n",
    "        self.MAPPING_FILE = config.MAPPING_FILE\n",
    "        self.CONTRACT_FILE = config.CONTRACT_FILE\n",
    "        self.TYPE = config.TYPE\n",
    "\n",
    "        self.es_client = config.es_client\n",
    "\n",
    "    def generate_request_body(self, search_terms=None, best_terms=None, best_fields=None):\n",
    "        body = {}\n",
    "        body[\"sort\"] = [{\"_score\": {\"order\": \"desc\"}}]\n",
    "        body[\"query\"] = {}\n",
    "        if best_terms and best_fields:\n",
    "            boolq = {}\n",
    "            body[\"query\"][\"bool\"] = boolq\n",
    "            body[\"query\"][\"bool\"][\"filter\"] = []\n",
    "            for bt in range(len(best_terms)):\n",
    "                condition = {}\n",
    "                condition[\"bool\"] = {}\n",
    "                condition[\"bool\"][\"should\"] = []\n",
    "                condition_details = {}\n",
    "                condition_details[\"match_phrase\"] = {}\n",
    "                condition_details[\"match_phrase\"][best_fields[bt]] = best_terms[bt]\n",
    "                condition[\"bool\"][\"should\"].append(condition_details)\n",
    "                body[\"query\"][\"bool\"][\"filter\"].append(condition)\n",
    "            if search_terms:\n",
    "                for st in search_terms:\n",
    "                    condition = {}\n",
    "                    condition[\"multi_match\"] = {}\n",
    "                    condition[\"multi_match\"][\"type\"] = \"phrase\"\n",
    "                    condition[\"multi_match\"][\"query\"] = st\n",
    "                    condition[\"multi_match\"][\"lenient\"] = True\n",
    "                    body[\"query\"][\"bool\"][\"filter\"].append(condition)\n",
    "        else:\n",
    "            for st in search_terms:\n",
    "                body[\"query\"][\"multi_match\"] = {}\n",
    "                body[\"query\"][\"multi_match\"][\"type\"] = \"phrase\"\n",
    "                body[\"query\"][\"multi_match\"][\"query\"] = st\n",
    "                body[\"query\"][\"multi_match\"][\"lenient\"] = True\n",
    "\n",
    "        return body\n",
    "\n",
    "    def create_index(self):\n",
    "        try:\n",
    "            logger.info(\"Elasticsearch Indexing Started...\")\n",
    "            start = time.time()\n",
    "            with open(self.CONTRACT_FILE, \"r+\", encoding=\"utf-8\") as f:\n",
    "                reader = csv.DictReader(f)\n",
    "                index = 0\n",
    "                self.es_client.indices.delete(index=self.INDEX_NAME, ignore=[400, 404])\n",
    "                self.es_client.indices.create(index=self.INDEX_NAME, ignore=400)\n",
    "                self.es_client.indices.put_mapping(\n",
    "                    index=self.INDEX_NAME,\n",
    "                    doc_type=self.TYPE,\n",
    "                    ignore=400,\n",
    "                    body=open(self.MAPPING_FILE, \"r\").read(),\n",
    "                )\n",
    "                response = helpers.bulk(self.es_client, reader, index=self.INDEX_NAME, doc_type=self.TYPE)\n",
    "                self.es_client.indices.refresh()\n",
    "                print(response)\n",
    "            f.close()\n",
    "            end = time.time()\n",
    "            logger.info(\"Elapsed Time: \" + str(round(end - start, 2)) + \"s\")\n",
    "            logger.info(\"(\" + str(response[0]) + \")\" + \" documents indexted to Elasticsearch\")\n",
    "        except:\n",
    "            logger.error(\"Error while indexing.\")\n",
    "\n",
    "    def es_search(self, request_body, query=\"the requested query\", is_total=False):\n",
    "        try:\n",
    "            if is_total:\n",
    "                res = self.es_client.search(index=self.INDEX_NAME, body=request_body, scroll=\"2m\")\n",
    "            else:\n",
    "                res = self.es_client.search(index=self.INDEX_NAME, body=request_body)\n",
    "            results = res[\"hits\"][\"hits\"]\n",
    "            logger.info('Total results with \"' + query + '\" ' + str(len(results)))\n",
    "            return results\n",
    "        except:\n",
    "            logger.error(\"Error while state searching.\")\n",
    "        return []"
   ]
  },
  {
   "cell_type": "markdown",
   "metadata": {},
   "source": [
    "###### ----\n",
    "#### 1- Index our dataset records using bulk"
   ]
  },
  {
   "cell_type": "code",
   "execution_count": 37,
   "metadata": {},
   "outputs": [],
   "source": [
    "contracts_es = Contracts_Elasticsearch(config)\n",
    "# contracts_es.create_index()"
   ]
  },
  {
   "cell_type": "markdown",
   "metadata": {},
   "source": [
    "###### -----\n",
    "#### 2- Simple Elasticsearch request to find top documents match a text query\n",
    "The rsults are stored by score descending, the score in elasticsearch is **tf-idf** term frequency–inverse document frequency.<br>\n",
    "**termFreq:** The number of times the term appears in the field of a document.<br>\n",
    "**maxDocs:** documents in the index<br>\n",
    "**docFreq:** number of documents contain the term<br>\n",
    "**normalize** the results so we can compare all the search queries\n",
    "$$tf= \\sqrt termFreq $$\n",
    "$$idf = 1+ \\log \\frac{maxDocs}{docFreq + 1}$$\n",
    "$$norm = \\frac{1}{\\sqrt numFieldTerms}$$\n",
    "$$score = tf * idf * norm$$"
   ]
  },
  {
   "cell_type": "code",
   "execution_count": 38,
   "metadata": {},
   "outputs": [
    {
     "name": "stderr",
     "output_type": "stream",
     "text": [
      "2021-02-14 16:07:58,527 __main__ Total results with \"New South Loop Elementary School IGA with CPS\" 4\n",
      "2021-02-14 16:07:58,565 __main__ Total results with \"New South Loop Elementary School IGA with CPS\" 4\n"
     ]
    },
    {
     "name": "stdout",
     "output_type": "stream",
     "text": [
      "{\n",
      "  \"_index\": \"contracts_index\",\n",
      "  \"_type\": \"contracts_docs\",\n",
      "  \"_id\": \"BKU1l3cBuwdZgPN-qiR3\",\n",
      "  \"_score\": 40.61244,\n",
      "  \"_source\": {\n",
      "    \"Purchase Order Description\": \"New South Loop Elementary School IGA with CPS\",\n",
      "    \"Purchase Order (Contract) Number\": \"53736\",\n",
      "    \"Revision Number\": \"2\",\n",
      "    \"Specification Number\": \"393134\",\n",
      "    \"Contract Type\": \"COMPTROLLER-OTHER\",\n",
      "    \"Start Date\": \"12/1/16\",\n",
      "    \"End Date\": \"7/30/21\",\n",
      "    \"Approval Date\": \"10/26/17\",\n",
      "    \"Department\": \"OFFICE OF BUDGET & MANAGEMENT\",\n",
      "    \"Vendor Name\": \"BOARD OF EDUCATION OF THE CITY OF CHICAGO\",\n",
      "    \"Vendor ID\": \"102692356V\",\n",
      "    \"Address 1\": \"42 W MADISON ST\",\n",
      "    \"Address 2\": \"\",\n",
      "    \"City\": \"CHICAGO\",\n",
      "    \"State\": \"IL\",\n",
      "    \"Zip\": \"60602\",\n",
      "    \"Award Amount\": \"-37666000\",\n",
      "    \"Procurement Type\": \"\",\n",
      "    \"Contract PDF\": \"http://ecm.cityofchicago.org/eSMARTContracts/service/DPSWebDocumentViewer?sid=ESMART&id={E4AB4B96-D6FE-4A03-9E48-9ADC1F7D8D2F}\"\n",
      "  }\n",
      "}\n"
     ]
    }
   ],
   "source": [
    "query = [\"New South Loop Elementary School IGA with CPS\"]\n",
    "request_body = contracts_es.generate_request_body(query)\n",
    "res = contracts_es.es_search(request_body, query[0], is_total=True)\n",
    "res = contracts_es.es_search(request_body, query[0], is_total=False)\n",
    "print(json.dumps(res[0], indent=2))"
   ]
  },
  {
   "cell_type": "markdown",
   "metadata": {},
   "source": [
    "###### ------\n",
    "### Elasticsearch Graph In Kibana Exploration"
   ]
  },
  {
   "cell_type": "code",
   "execution_count": 39,
   "metadata": {},
   "outputs": [],
   "source": [
    "class Elasticsearch_Graph:\n",
    "    \"\"\"\n",
    "    Explore elasticsearch graph\n",
    "    \"\"\"\n",
    "\n",
    "    def __init__(self, config):\n",
    "        self.INDEX_NAME = config.INDEX_NAME\n",
    "        self.MAPPING_FILE = config.MAPPING_FILE\n",
    "        self.CONTRACT_FILE = config.CONTRACT_FILE\n",
    "        self.TYPE = config.TYPE\n",
    "\n",
    "        self.es_client = config.es_client\n",
    "\n",
    "    def generagte_request_body(\n",
    "        self,\n",
    "        fields,\n",
    "        connections,\n",
    "        multi_match_type,\n",
    "        certainty,\n",
    "        sample_size,\n",
    "        timeout,\n",
    "        query_terms=None,\n",
    "        include=None,\n",
    "        execlude=None,\n",
    "        is_spider=False,\n",
    "    ):\n",
    "        request_body = {}\n",
    "        if not is_spider:\n",
    "            request_body[\"query\"] = {}\n",
    "            request_body[\"query\"][\"bool\"] = {}\n",
    "            request_body[\"query\"][\"bool\"][\"should\"] = []\n",
    "            if query_terms is not None:\n",
    "                for term in query_terms:\n",
    "                    filters = {}\n",
    "                    filters[\"bool\"] = {}\n",
    "                    filters[\"bool\"][\"filter\"] = []\n",
    "                    for t in term:\n",
    "                        multi_match = {}\n",
    "                        multi_match[\"multi_match\"] = {}\n",
    "                        multi_match[\"multi_match\"][\"type\"] = multi_match_type\n",
    "                        multi_match[\"multi_match\"][\"query\"] = t\n",
    "                        multi_match[\"multi_match\"][\"lenient\"] = True\n",
    "                        filters[\"bool\"][\"filter\"].append(multi_match)\n",
    "                    request_body[\"query\"][\"bool\"][\"should\"].append(filters)\n",
    "        request_body[\"controls\"] = {}\n",
    "        request_body[\"controls\"][\"use_significance\"] = True\n",
    "        request_body[\"controls\"][\"sample_size\"] = sample_size\n",
    "        request_body[\"controls\"][\"timeout\"] = timeout\n",
    "        request_body[\"connections\"] = {}\n",
    "        request_body[\"connections\"][\"vertices\"] = []\n",
    "        request_body[\"vertices\"] = []\n",
    "        for field in fields:\n",
    "            vertex = {}\n",
    "            vertex[\"field\"] = field\n",
    "            vertex[\"size\"] = 5\n",
    "            vertex[\"min_doc_count\"] = certainty\n",
    "            if include:\n",
    "                vertex[\"include\"] = include\n",
    "            request_body[\"vertices\"].append(vertex)\n",
    "        for c in range(len(connections)):\n",
    "            connection = {}\n",
    "            connection[\"field\"] = connections[c]\n",
    "            connection[\"size\"] = 5\n",
    "            connection[\"min_doc_count\"] = certainty\n",
    "            if execlude:\n",
    "                connection[\"exclude\"] = execlude[c]\n",
    "            request_body[\"connections\"][\"vertices\"].append(connection)\n",
    "        return request_body\n",
    "\n",
    "    def create_graph_in_kibana(self, request_body, is_sort=True):\n",
    "        graph_client = GraphClient(self.es_client)\n",
    "        res = graph_client.explore(index=self.INDEX_NAME, body=request_body)\n",
    "\n",
    "        vertices = res[\"vertices\"]\n",
    "        connections = res[\"connections\"]\n",
    "        vertices_values = []\n",
    "        fields_values = []\n",
    "\n",
    "        connections = (\n",
    "            sorted(res[\"connections\"], key=lambda k: k[\"weight\"], reverse=True)\n",
    "            if is_sort\n",
    "            else res[\"connections\"]\n",
    "        )\n",
    "\n",
    "        for v in vertices:\n",
    "            vertices_values.append(v[\"term\"])\n",
    "            fields_values.append(v[\"field\"])\n",
    "\n",
    "        for c in connections:\n",
    "            c[\"source\"] = [vertices_values[c[\"source\"]], fields_values[c[\"source\"]]]\n",
    "            c[\"target\"] = [vertices_values[c[\"target\"]], fields_values[c[\"target\"]]]\n",
    "\n",
    "        return connections"
   ]
  },
  {
   "cell_type": "markdown",
   "metadata": {},
   "source": [
    "###### -------\n",
    "#### 1. Graph request body\n",
    "<br>To start Graph Exploration I followed the following :\n",
    "<ol>\n",
    "<li>Prepare the query:\n",
    "    <ol>\n",
    "        <li>Define the elasticsearch index </li>\n",
    "        <li>Choose the Vertices: Choose the fields (columns in dataset terms) that we want to use as vertices in the graph</li>\n",
    "        <li>Choose the Connections: the fields from which we want to extract term that are associated with the specified vertices.<ol>For each field we choose to be a vertex or in the connection we define:\n",
    "                <li>Define the size: maximum number of vertex terms returned for each field</li>\n",
    "                <li>Define min_doc_count: specifies how many documents must contain a pair of terms before it is considered to be a useful connection</li></ol>\n",
    "        </li>            \n",
    "        <li>Prepare the search term from which we are interested to see the related vertices </li>\n",
    "        <li>Define the sample size, Each hop considers a sample of the best-matching documents</li>\n",
    "    </ol>\n",
    "</li>\n",
    "<li>The weight in the response specifies the significance score\n",
    "    </li>\n",
    "<li>The depth attribute specifies the hop-level</li>\n",
    "<li>The doc_count value indicates how many documents in the sample set contain this pairing of terms</li>\n",
    "</ol>"
   ]
  },
  {
   "cell_type": "markdown",
   "metadata": {},
   "source": [
    "[Elasticsearch significance score](https://www.elastic.co/guide/en/elasticsearch/reference/current/search-aggregations-bucket-significantterms-aggregation.html#search-aggregations-bucket-significantterms-aggregation)."
   ]
  },
  {
   "cell_type": "code",
   "execution_count": 40,
   "metadata": {},
   "outputs": [],
   "source": [
    "es_gragh = Elasticsearch_Graph(config)"
   ]
  },
  {
   "cell_type": "code",
   "execution_count": 41,
   "metadata": {},
   "outputs": [],
   "source": [
    "query_terms = [[\"New South Loop Elementary School IGA with CPS\"]]\n",
    "multi_match_types = [\"phrase\", \"best_fields\", \"most_fields\", \"cross_fields\"]\n",
    "fields = [\"Contract Type.keyword\", \"Vendor Name.keyword\"]\n",
    "connections = [\"Contract Type.keyword\", \"Vendor Name.keyword\"]\n",
    "request_body = es_gragh.generagte_request_body(\n",
    "    fields, connections, multi_match_types[0], 3, 2000, 5000, query_terms\n",
    ")"
   ]
  },
  {
   "cell_type": "code",
   "execution_count": 42,
   "metadata": {},
   "outputs": [
    {
     "data": {
      "text/plain": [
       "[{'source': ['BOARD OF EDUCATION OF THE CITY OF CHICAGO',\n",
       "   'Vendor Name.keyword'],\n",
       "  'target': ['COMPTROLLER-OTHER', 'Contract Type.keyword'],\n",
       "  'weight': 0.6371781093215246,\n",
       "  'doc_count': 111},\n",
       " {'source': ['COMPTROLLER-OTHER', 'Contract Type.keyword'],\n",
       "  'target': ['BOARD OF EDUCATION OF THE CITY OF CHICAGO',\n",
       "   'Vendor Name.keyword'],\n",
       "  'weight': 0.0035757113284619717,\n",
       "  'doc_count': 111},\n",
       " {'source': ['COMPTROLLER-OTHER', 'Contract Type.keyword'],\n",
       "  'target': ['CHICAGO PARK DISTRICT', 'Vendor Name.keyword'],\n",
       "  'weight': 0.0007399264863569791,\n",
       "  'doc_count': 57},\n",
       " {'source': ['COMPTROLLER-OTHER', 'Contract Type.keyword'],\n",
       "  'target': ['CARDINAL HEALTH', 'Vendor Name.keyword'],\n",
       "  'weight': 0.0002036985333051037,\n",
       "  'doc_count': 7},\n",
       " {'source': ['COMPTROLLER-OTHER', 'Contract Type.keyword'],\n",
       "  'target': ['PUBLIC BUILDING COMMISSION CHICAGO', 'Vendor Name.keyword'],\n",
       "  'weight': 0.0001599122742157049,\n",
       "  'doc_count': 14},\n",
       " {'source': ['COMPTROLLER-OTHER', 'Contract Type.keyword'],\n",
       "  'target': ['FEDERAL AVIATION ADMINISTRATION', 'Vendor Name.keyword'],\n",
       "  'weight': 0.0001549471590313261,\n",
       "  'doc_count': 21}]"
      ]
     },
     "execution_count": 42,
     "metadata": {},
     "output_type": "execute_result"
    }
   ],
   "source": [
    "# print(json.dumps(query, indent=2))\n",
    "connections = es_gragh.create_graph_in_kibana(request_body, True)\n",
    "connections"
   ]
  },
  {
   "cell_type": "markdown",
   "metadata": {},
   "source": [
    "![title](imgs/graph_1.png)"
   ]
  },
  {
   "cell_type": "code",
   "execution_count": 43,
   "metadata": {},
   "outputs": [],
   "source": [
    "best_term1 = connections[0][\"source\"][0]\n",
    "best_field1 = connections[0][\"source\"][1]\n",
    "best_term2 = connections[0][\"target\"][0]\n",
    "best_field2 = connections[0][\"target\"][1]\n",
    "best_terms = [best_term1, best_term2]\n",
    "best_fields = [best_field1, best_field2]\n",
    "search_terms = [\"New South Loop Elementary School IGA with CPS\"]\n",
    "es_request_body = contracts_es.generate_request_body(\n",
    "    search_terms, best_terms, best_fields\n",
    ")"
   ]
  },
  {
   "cell_type": "code",
   "execution_count": 44,
   "metadata": {},
   "outputs": [
    {
     "name": "stderr",
     "output_type": "stream",
     "text": [
      "2021-02-14 16:08:08,456 __main__ Total results with \"the requested query\" 4\n"
     ]
    },
    {
     "data": {
      "text/plain": [
       "[{'_index': 'contracts_index',\n",
       "  '_type': 'contracts_docs',\n",
       "  '_id': 'baU1l3cBuwdZgPN-ty1p',\n",
       "  '_score': 0.0,\n",
       "  '_source': {'Purchase Order Description': 'New South Loop Elementary School IGA with CPS',\n",
       "   'Purchase Order (Contract) Number': '53736',\n",
       "   'Revision Number': '0',\n",
       "   'Specification Number': '393134',\n",
       "   'Contract Type': 'COMPTROLLER-OTHER',\n",
       "   'Start Date': '12/1/16',\n",
       "   'End Date': '7/30/20',\n",
       "   'Approval Date': '2/15/17',\n",
       "   'Department': 'OFFICE OF BUDGET & MANAGEMENT',\n",
       "   'Vendor Name': 'BOARD OF EDUCATION OF THE CITY OF CHICAGO',\n",
       "   'Vendor ID': '102692356V',\n",
       "   'Address 1': '42 W MADISON ST',\n",
       "   'Address 2': '',\n",
       "   'City': 'CHICAGO',\n",
       "   'State': 'IL',\n",
       "   'Zip': '60602',\n",
       "   'Award Amount': '10667000',\n",
       "   'Procurement Type': '',\n",
       "   'Contract PDF': 'http://ecm.cityofchicago.org/eSMARTContracts/service/DPSWebDocumentViewer?sid=ESMART&id={CDF5B82B-2059-436A-88D5-98CC7DBF415B}'}},\n",
       " {'_index': 'contracts_index',\n",
       "  '_type': 'contracts_docs',\n",
       "  '_id': 'BKU1l3cBuwdZgPN-qiR3',\n",
       "  '_score': 0.0,\n",
       "  '_source': {'Purchase Order Description': 'New South Loop Elementary School IGA with CPS',\n",
       "   'Purchase Order (Contract) Number': '53736',\n",
       "   'Revision Number': '2',\n",
       "   'Specification Number': '393134',\n",
       "   'Contract Type': 'COMPTROLLER-OTHER',\n",
       "   'Start Date': '12/1/16',\n",
       "   'End Date': '7/30/21',\n",
       "   'Approval Date': '10/26/17',\n",
       "   'Department': 'OFFICE OF BUDGET & MANAGEMENT',\n",
       "   'Vendor Name': 'BOARD OF EDUCATION OF THE CITY OF CHICAGO',\n",
       "   'Vendor ID': '102692356V',\n",
       "   'Address 1': '42 W MADISON ST',\n",
       "   'Address 2': '',\n",
       "   'City': 'CHICAGO',\n",
       "   'State': 'IL',\n",
       "   'Zip': '60602',\n",
       "   'Award Amount': '-37666000',\n",
       "   'Procurement Type': '',\n",
       "   'Contract PDF': 'http://ecm.cityofchicago.org/eSMARTContracts/service/DPSWebDocumentViewer?sid=ESMART&id={E4AB4B96-D6FE-4A03-9E48-9ADC1F7D8D2F}'}},\n",
       " {'_index': 'contracts_index',\n",
       "  '_type': 'contracts_docs',\n",
       "  '_id': 'PaU1l3cBuwdZgPN-wDLf',\n",
       "  '_score': 0.0,\n",
       "  '_source': {'Purchase Order Description': 'New South Loop Elementary School IGA with CPS',\n",
       "   'Purchase Order (Contract) Number': '52115',\n",
       "   'Revision Number': '0',\n",
       "   'Specification Number': '368105',\n",
       "   'Contract Type': 'COMPTROLLER-OTHER',\n",
       "   'Start Date': '12/1/16',\n",
       "   'End Date': '7/30/20',\n",
       "   'Approval Date': '1/12/17',\n",
       "   'Department': 'OFFICE OF BUDGET & MANAGEMENT',\n",
       "   'Vendor Name': 'BOARD OF EDUCATION OF THE CITY OF CHICAGO',\n",
       "   'Vendor ID': '102692356V',\n",
       "   'Address 1': '42 W MADISON ST',\n",
       "   'Address 2': '',\n",
       "   'City': 'CHICAGO',\n",
       "   'State': 'IL',\n",
       "   'Zip': '60602',\n",
       "   'Award Amount': '10667000',\n",
       "   'Procurement Type': '',\n",
       "   'Contract PDF': 'http://ecm.cityofchicago.org/eSMARTContracts/service/DPSWebDocumentViewer?sid=ESMART&id={C71D1621-D498-42FB-BA37-AD9F3C5C5545}'}},\n",
       " {'_index': 'contracts_index',\n",
       "  '_type': 'contracts_docs',\n",
       "  '_id': '0KU2l3cBuwdZgPN-yM_G',\n",
       "  '_score': 0.0,\n",
       "  '_source': {'Purchase Order Description': 'New South Loop Elementary School IGA with CPS',\n",
       "   'Purchase Order (Contract) Number': '53736',\n",
       "   'Revision Number': '1',\n",
       "   'Specification Number': '393134',\n",
       "   'Contract Type': 'COMPTROLLER-OTHER',\n",
       "   'Start Date': '12/1/16',\n",
       "   'End Date': '7/30/21',\n",
       "   'Approval Date': '5/19/17',\n",
       "   'Department': 'OFFICE OF BUDGET & MANAGEMENT',\n",
       "   'Vendor Name': 'BOARD OF EDUCATION OF THE CITY OF CHICAGO',\n",
       "   'Vendor ID': '102692356V',\n",
       "   'Address 1': '42 W MADISON ST',\n",
       "   'Address 2': '',\n",
       "   'City': 'CHICAGO',\n",
       "   'State': 'IL',\n",
       "   'Zip': '60602',\n",
       "   'Award Amount': '37666000',\n",
       "   'Procurement Type': '',\n",
       "   'Contract PDF': 'http://ecm.cityofchicago.org/eSMARTContracts/service/DPSWebDocumentViewer?sid=ESMART&id={C48670AB-DB6B-4F31-B994-DCA94BAD6916}'}}]"
      ]
     },
     "execution_count": 44,
     "metadata": {},
     "output_type": "execute_result"
    }
   ],
   "source": [
    "res = contracts_es.es_search(es_request_body, is_total=False)\n",
    "res"
   ]
  },
  {
   "cell_type": "markdown",
   "metadata": {},
   "source": [
    "\n",
    "###### --------\n",
    "#### 2. Elasticsearch Graph Spidering Operation\n",
    "After an initial search, if we want to select vertices of interest and see what additional vertices are connected. we operate expanding or what called spridering\n",
    "to start this operation we need :\n",
    "<ol>\n",
    "    <li>The set of vertices for which we want to find additional connections</li>\n",
    "    <li>The set of vertices you already know about that we want to exclude from the results of the spidering operation.</li>\n",
    "</ol>\n",
    "\n"
   ]
  },
  {
   "cell_type": "code",
   "execution_count": 45,
   "metadata": {},
   "outputs": [],
   "source": [
    "multi_match_types = [\"phrase\", \"best_fields\", \"most_fields\", \"cross_fields\"]\n",
    "fields = [\"Contract Type.keyword\"]\n",
    "connections = [\"Contract Type.keyword\", \"Vendor Name.keyword\"]\n",
    "fields_include = [{\"term\": \"COMPTROLLER-OTHER\"}]\n",
    "connections_execlude = [\n",
    "    [\"COMPTROLLER-OTHER\"],\n",
    "    [\n",
    "        \"CHICAGO PARK DISTRICT\",\n",
    "        \"BOARD OF EDUCATION OF THE CITY OF CHICAGO\",\n",
    "        \"KASIA'S DELI INC\",\n",
    "        \"PUBLIC BUILDING COMMISSION CHICAGO\",\n",
    "        \"CARDINAL HEALTH\",\n",
    "    ],\n",
    "]\n",
    "spider_request_body = es_gragh.generagte_request_body(\n",
    "    fields,\n",
    "    connections,\n",
    "    multi_match_types[0],\n",
    "    3,\n",
    "    2000,\n",
    "    5000,\n",
    "    None,\n",
    "    fields_include,\n",
    "    connections_execlude,\n",
    "    True,\n",
    ")\n",
    "# print(json.dumps(query, indent=2))"
   ]
  },
  {
   "cell_type": "code",
   "execution_count": 46,
   "metadata": {},
   "outputs": [
    {
     "data": {
      "text/plain": [
       "[{'source': ['COMPTROLLER-OTHER', 'Contract Type.keyword'],\n",
       "  'target': ['FEDERAL AVIATION ADMINISTRATION', 'Vendor Name.keyword'],\n",
       "  'weight': 0.22523017657694652,\n",
       "  'doc_count': 22},\n",
       " {'source': ['COMPTROLLER-OTHER', 'Contract Type.keyword'],\n",
       "  'target': ['BILLY GOAT TAVERN & GRILL', 'Vendor Name.keyword'],\n",
       "  'weight': 0.2029531184057598,\n",
       "  'doc_count': 9},\n",
       " {'source': ['COMPTROLLER-OTHER', 'Contract Type.keyword'],\n",
       "  'target': ['NNAMDI AFRICAN ORIGINS', 'Vendor Name.keyword'],\n",
       "  'weight': 0.17613045142498274,\n",
       "  'doc_count': 4},\n",
       " {'source': ['COMPTROLLER-OTHER', 'Contract Type.keyword'],\n",
       "  'target': ['CONGO SQUARE THEATRE COMPANY', 'Vendor Name.keyword'],\n",
       "  'weight': 0.17613045142498274,\n",
       "  'doc_count': 4},\n",
       " {'source': ['COMPTROLLER-OTHER', 'Contract Type.keyword'],\n",
       "  'target': ['POLO CAFE & CATERING BRIDGEPORT U.S.A.', 'Vendor Name.keyword'],\n",
       "  'weight': 0.16955580216732824,\n",
       "  'doc_count': 5}]"
      ]
     },
     "execution_count": 46,
     "metadata": {},
     "output_type": "execute_result"
    }
   ],
   "source": [
    "res = es_gragh.create_graph_in_kibana(spider_request_body)\n",
    "res"
   ]
  },
  {
   "cell_type": "markdown",
   "metadata": {},
   "source": [
    "![title](imgs/graph_2.png)"
   ]
  },
  {
   "cell_type": "markdown",
   "metadata": {},
   "source": [
    "###### ---------\n",
    "### Demo"
   ]
  },
  {
   "cell_type": "code",
   "execution_count": 47,
   "metadata": {},
   "outputs": [],
   "source": [
    "class Search:\n",
    "    def __init__(self, config, es_graph, es, threshold):\n",
    "        self.config = config\n",
    "        self.es_client = config.es_client\n",
    "        self.es_graph = es_graph\n",
    "        self.es = es\n",
    "        self.threshold = threshold\n",
    "\n",
    "    def es_search(self, connections):\n",
    "        count = 0\n",
    "        ress = []\n",
    "        reasons = []\n",
    "        while len(ress) < 20 and count < len(connections):\n",
    "            if connections[count][\"weight\"] > self.threshold:\n",
    "                reasons.append(connections[count][\"weight\"])\n",
    "                reasons.append(connections[count][\"doc_count\"])\n",
    "                best_term1 = connections[count][\"source\"][0]\n",
    "                best_field1 = connections[count][\"source\"][1]\n",
    "                best_term2 = connections[count][\"target\"][0]\n",
    "                best_field2 = connections[count][\"target\"][1]\n",
    "                best_terms = [best_term1, best_term2]\n",
    "                best_fields = [best_field1, best_field2]\n",
    "                request_body = self.es.generate_request_body(\n",
    "                    None, best_terms, best_fields\n",
    "                )\n",
    "                res = self.es.es_search(request_body, is_total=True)\n",
    "                ress = ress + res\n",
    "            count += 1\n",
    "        return ress\n",
    "\n",
    "    def graph_search(self, cities_text, states_text):\n",
    "        query_terms = [cities_text, states_text]\n",
    "        multi_match_types = [\"phrase\", \"best_fields\", \"most_fields\", \"cross_fields\"]\n",
    "        fields = [\"Contract Type.keyword\", \"Vendor Name.keyword\"]\n",
    "        connections = [\"Contract Type.keyword\", \"Vendor Name.keyword\"]\n",
    "        request_body = self.es_graph.generagte_request_body(\n",
    "            fields, connections, multi_match_types[0], 1, 2000, 5000, query_terms\n",
    "        )\n",
    "        connections = self.es_graph.create_graph_in_kibana(request_body)\n",
    "        res = self.es_search(connections)\n",
    "\n",
    "        return res\n",
    "\n",
    "    def get_city_state(self, city):\n",
    "        gmaps = googlemaps.Client(key=self.config.googlemaps_api_key)\n",
    "        result = gmaps.geocode(city)\n",
    "        state = result[0][\"formatted_address\"].split(\", \")[1]\n",
    "        return state\n",
    "\n",
    "    def search(self, search_query):\n",
    "        states = []\n",
    "        cities = []\n",
    "        text = []\n",
    "        terms = search_query.split(\" \")\n",
    "        for term in terms:\n",
    "            places = GeoText(term.title())\n",
    "            if places.cities:\n",
    "                city = places.cities[0]\n",
    "                cities.append(city)\n",
    "                state = self.get_city_state(city)\n",
    "                states.append(state)\n",
    "            else:\n",
    "                text.append(term)\n",
    "        cities_text = cities + text\n",
    "        states_text = states + text\n",
    "        res = self.graph_search(cities_text, states_text)\n",
    "        return res"
   ]
  },
  {
   "cell_type": "code",
   "execution_count": 48,
   "metadata": {},
   "outputs": [],
   "source": [
    "def start(term):\n",
    "    config = Config()\n",
    "    config.vault_connect()\n",
    "    config.elasticsearch_connect()\n",
    "    config.es_client\n",
    "    es = Contracts_Elasticsearch(config)\n",
    "    es_graph = Elasticsearch_Graph(config)\n",
    "    search_client = Search(config, es_graph, es, .0001)\n",
    "    res = search_client.search(term)\n",
    "    return res"
   ]
  },
  {
   "cell_type": "code",
   "execution_count": 49,
   "metadata": {},
   "outputs": [
    {
     "name": "stdout",
     "output_type": "stream",
     "text": [
      "This search will be done using Elasticsearch graph and Elasticsearch\n"
     ]
    },
    {
     "data": {
      "application/vnd.jupyter.widget-view+json": {
       "model_id": "38bf840d67c34bbdbb53917f2a2e75e9",
       "version_major": 2,
       "version_minor": 0
      },
      "text/plain": [
       "Text(value='', description='Query:', placeholder='Press Enter to Search')"
      ]
     },
     "metadata": {},
     "output_type": "display_data"
    },
    {
     "data": {
      "application/vnd.jupyter.widget-view+json": {
       "model_id": "c84f52851f954d1aa4a428df5a435a48",
       "version_major": 2,
       "version_minor": 0
      },
      "text/plain": [
       "Output()"
      ]
     },
     "metadata": {},
     "output_type": "display_data"
    }
   ],
   "source": [
    "print(\"This search will be done using Elasticsearch graph and Elasticsearch\")\n",
    "text = widgets.Text(\n",
    "    value=\"\", placeholder=\"Press Enter to Search\", description=\"Query:\", disabled=False\n",
    ")\n",
    "output = widgets.Output()\n",
    "display(text, output)\n",
    "\n",
    "\n",
    "def callback(wdgt):\n",
    "    # replace by something useful\n",
    "    start_time = time.time()\n",
    "    output_str = \"\"\n",
    "    with output:\n",
    "        logger.propagate = False\n",
    "        search_results = start(wdgt.value)\n",
    "        end_time = time.time()\n",
    "        print(\"Elapsed Time: \" + str(round(end_time - start_time, 2)) + \"s\")\n",
    "        # print(\"Total Results: \" + print(len(search_results)))\n",
    "        for i in search_results:\n",
    "            output_str += (\n",
    "                \"Purchase Order Description: \"\n",
    "                + i[\"_source\"][\"Purchase Order Description\"]\n",
    "                + \"\\n\"\n",
    "                + \"Vendor Name: \"\n",
    "                + i[\"_source\"][\"Vendor Name\"]\n",
    "                + \"\\n\"\n",
    "                + \"Contract Typen: \"\n",
    "                + i[\"_source\"][\"Contract Type\"]\n",
    "                + \"\\n\"\n",
    "                + \"Contract PDF: \"\n",
    "                + i[\"_source\"][\"Contract PDF\"]\n",
    "                + \"\\n\"\n",
    "                + \"City: \"\n",
    "                + i[\"_source\"][\"City\"]\n",
    "                + \"\\n\"\n",
    "                + \"State: \"\n",
    "                + i[\"_source\"][\"State\"]\n",
    "                + \"\\n\"\n",
    "                + \"\"\n",
    "                + \"_____________________ \\n\"\n",
    "            )\n",
    "        print(output_str)\n",
    "text.on_submit(callback)"
   ]
  },
  {
   "cell_type": "markdown",
   "metadata": {},
   "source": [
    "![title](imgs/results.png)"
   ]
  }
 ],
 "metadata": {
  "kernelspec": {
   "display_name": "Python 3",
   "language": "python",
   "name": "python3"
  },
  "language_info": {
   "codemirror_mode": {
    "name": "ipython",
    "version": 3
   },
   "file_extension": ".py",
   "mimetype": "text/x-python",
   "name": "python",
   "nbconvert_exporter": "python",
   "pygments_lexer": "ipython3",
   "version": "3.6.11"
  }
 },
 "nbformat": 4,
 "nbformat_minor": 4
}
